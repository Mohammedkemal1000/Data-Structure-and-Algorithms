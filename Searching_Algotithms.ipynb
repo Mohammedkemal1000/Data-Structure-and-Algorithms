{
  "metadata": {
    "kernelspec": {
      "name": "python",
      "display_name": "Python (Pyodide)",
      "language": "python"
    },
    "language_info": {
      "codemirror_mode": {
        "name": "python",
        "version": 3
      },
      "file_extension": ".py",
      "mimetype": "text/x-python",
      "name": "python",
      "nbconvert_exporter": "python",
      "pygments_lexer": "ipython3",
      "version": "3.8"
    }
  },
  "nbformat_minor": 5,
  "nbformat": 4,
  "cells": [
    {
      "id": "9977426c-af84-42e2-8f11-d922ba0b3a14",
      "cell_type": "markdown",
      "source": "Name : Mohammedkemal Nurhussen Sheriff,\nID   : DBU1601534,\nDepartment : Data Science,\n[My GitHub Profile](https://github.com/Mohammedkemal1000) ",
      "metadata": {}
    },
    {
      "id": "32207169-054d-4725-a6fe-c8d8443572c1",
      "cell_type": "code",
      "source": "students = [\n    {'id': 'DBU1500001', 'name': 'Aziza', 'dept': 'DS', 'cgpa': 3.45},\n    {'id': 'DBU1500002', 'name': 'Mohammedkemal', 'dept': 'DS', 'cgpa': 3.18},\n    {'id': 'DBU1500003', 'name': 'Sidet', 'dept': 'CS', 'cgpa': 2.91},\n    {'id': 'DBU1500004', 'name': 'Miftah', 'dept': 'IS', 'cgpa': 3.62},\n    {'id': 'DBU1500005', 'name': 'Sheriff', 'dept': 'DS', 'cgpa': 2.87},\n    {'id': 'DBU1500006', 'name': 'Sumeyya', 'dept': 'IT', 'cgpa': 3.74},\n    {'id': 'DBU1500007', 'name': 'Emuhalim', 'dept': 'CS', 'cgpa': 3.05},\n    {'id': 'DBU1500008', 'name': 'Anisa', 'dept': 'IS', 'cgpa': 3.33},\n    {'id': 'DBU1500009', 'name': 'Mohammednur', 'dept': 'IT', 'cgpa': 2.99},\n    {'id': 'DBU1500010', 'name': 'Kemal', 'dept': 'IT', 'cgpa': 3.55}\n]",
      "metadata": {
        "trusted": true
      },
      "outputs": [],
      "execution_count": 11
    },
    {
      "id": "edc61b4f-8f93-48da-9077-74d14073eb37",
      "cell_type": "code",
      "source": "# Bubble Sort by ID\n\ndef bubble_sort_by_id(students_list):\n    n = len(students_list)\n    for i in range(n):\n        for j in range(0, n - i - 1):\n            if students_list[j]['id'] > students_list[j + 1]['id']:\n\n                students_list[j], students_list[j + 1] = students_list[j + 1], students_list[j]\n    return students_list\nsorted_by_id = bubble_sort_by_id(students)\nprint(\"Students sorted by ID (using Bubble Sort):\")\nfor s in sorted_by_id:\n    print(s)\n",
      "metadata": {
        "trusted": true,
        "collapsed": true,
        "jupyter": {
          "outputs_hidden": true
        }
      },
      "outputs": [
        {
          "name": "stdout",
          "output_type": "stream",
          "text": "Students sorted by ID (using Bubble Sort):\n{'id': 'DBU1500001', 'name': 'Aziza', 'dept': 'DS', 'cgpa': 3.45}\n{'id': 'DBU1500002', 'name': 'Mohammedkemal', 'dept': 'DS', 'cgpa': 3.18}\n{'id': 'DBU1500003', 'name': 'Sidet', 'dept': 'CS', 'cgpa': 2.91}\n{'id': 'DBU1500004', 'name': 'Miftah', 'dept': 'IS', 'cgpa': 3.62}\n{'id': 'DBU1500005', 'name': 'Sheriff', 'dept': 'DS', 'cgpa': 2.87}\n{'id': 'DBU1500006', 'name': 'Sumeyya', 'dept': 'IT', 'cgpa': 3.74}\n{'id': 'DBU1500007', 'name': 'Emuhalim', 'dept': 'CS', 'cgpa': 3.05}\n{'id': 'DBU1500008', 'name': 'Anisa', 'dept': 'IS', 'cgpa': 3.33}\n{'id': 'DBU1500009', 'name': 'Mohammednur', 'dept': 'IT', 'cgpa': 2.99}\n{'id': 'DBU1500010', 'name': 'Kemal', 'dept': 'IT', 'cgpa': 3.55}\n"
        }
      ],
      "execution_count": 12
    },
    {
      "id": "8ef43866-4bba-47c1-93ba-6d48ce141444",
      "cell_type": "code",
      "source": "# Insertion Sort by Name\n\ndef insertion_sort_by_name(students_list):\n    for i in range(1, len(students_list)):\n        current = students_list[i]\n        j = i - 1\n        while j >= 0 and students_list[j]['name'].lower() > current['name'].lower():\n            students_list[j + 1] = students_list[j]\n            j -= 1\n        students_list[j + 1] = current\n    return students_list\n\nsorted_by_name = insertion_sort_by_name(students)\nprint(\"\\nStudents sorted by Name :\")\nfor s in sorted_by_name:\n    print(s)",
      "metadata": {
        "trusted": true,
        "collapsed": true,
        "jupyter": {
          "outputs_hidden": true
        }
      },
      "outputs": [
        {
          "name": "stdout",
          "output_type": "stream",
          "text": "\nStudents sorted by Name :\n{'id': 'DBU1500008', 'name': 'Anisa', 'dept': 'IS', 'cgpa': 3.33}\n{'id': 'DBU1500001', 'name': 'Aziza', 'dept': 'DS', 'cgpa': 3.45}\n{'id': 'DBU1500007', 'name': 'Emuhalim', 'dept': 'CS', 'cgpa': 3.05}\n{'id': 'DBU1500010', 'name': 'Kemal', 'dept': 'IT', 'cgpa': 3.55}\n{'id': 'DBU1500004', 'name': 'Miftah', 'dept': 'IS', 'cgpa': 3.62}\n{'id': 'DBU1500002', 'name': 'Mohammedkemal', 'dept': 'DS', 'cgpa': 3.18}\n{'id': 'DBU1500009', 'name': 'Mohammednur', 'dept': 'IT', 'cgpa': 2.99}\n{'id': 'DBU1500005', 'name': 'Sheriff', 'dept': 'DS', 'cgpa': 2.87}\n{'id': 'DBU1500003', 'name': 'Sidet', 'dept': 'CS', 'cgpa': 2.91}\n{'id': 'DBU1500006', 'name': 'Sumeyya', 'dept': 'IT', 'cgpa': 3.74}\n"
        }
      ],
      "execution_count": 13
    },
    {
      "id": "a8cca686-23a9-463e-9692-36ae766a7235",
      "cell_type": "code",
      "source": "# Selection sort by CGPA (Descending)\n\ndef selection_sort_by_cgpa(students_list):\n    n = len(students_list)\n    for i in range(n):\n        max_index = i\n        for j in range(i + 1, n):\n            if students_list[j]['cgpa'] > students_list[max_index]['cgpa']:\n                max_index = j\n        students_list[i], students_list[max_index] = students_list[max_index], students_list[i]\n    return students_list\n    \nsorted_by_cgpa = selection_sort_by_cgpa(students)\nprint(\"\\nStudents sorted by CGPA :\")\nfor s in sorted_by_cgpa:\n    print(s)",
      "metadata": {
        "trusted": true,
        "collapsed": true,
        "jupyter": {
          "outputs_hidden": true
        }
      },
      "outputs": [
        {
          "name": "stdout",
          "output_type": "stream",
          "text": "\nStudents sorted by CGPA :\n{'id': 'DBU1500006', 'name': 'Sumeyya', 'dept': 'IT', 'cgpa': 3.74}\n{'id': 'DBU1500004', 'name': 'Miftah', 'dept': 'IS', 'cgpa': 3.62}\n{'id': 'DBU1500010', 'name': 'Kemal', 'dept': 'IT', 'cgpa': 3.55}\n{'id': 'DBU1500001', 'name': 'Aziza', 'dept': 'DS', 'cgpa': 3.45}\n{'id': 'DBU1500008', 'name': 'Anisa', 'dept': 'IS', 'cgpa': 3.33}\n{'id': 'DBU1500002', 'name': 'Mohammedkemal', 'dept': 'DS', 'cgpa': 3.18}\n{'id': 'DBU1500007', 'name': 'Emuhalim', 'dept': 'CS', 'cgpa': 3.05}\n{'id': 'DBU1500009', 'name': 'Mohammednur', 'dept': 'IT', 'cgpa': 2.99}\n{'id': 'DBU1500003', 'name': 'Sidet', 'dept': 'CS', 'cgpa': 2.91}\n{'id': 'DBU1500005', 'name': 'Sheriff', 'dept': 'DS', 'cgpa': 2.87}\n"
        }
      ],
      "execution_count": 14
    },
    {
      "id": "bf030b62-1279-4dd9-aed9-d0cd197ea5d6",
      "cell_type": "markdown",
      "source": "### **Analysis of the above Sorting Algorithms which I used to sort students data**\n\n#### **1. Bubble Sort**\n- **Time Complexity**: O(n²) for both worst and average cases; O(n) in the best case (if already sorted).\n- **Space Complexity**: O(1).\n- **Advantages**:\n  - Very easy to implement and understand.\n  - Doesn’t require extra space; it sorts the list in place.\n- **Disadvantages**:\n  - Not efficient for large datasets, as it requires many redundant comparisons.\n  - The performance drops significantly with larger lists.\n\n#### **2. Insertion Sort**\n- **Time Complexity**: O(n²) for both worst and average cases; O(n) in the best case (if already sorted).\n- **Space Complexity**: O(1).\n- **Advantages**:\n  - Works well for small datasets or nearly sorted lists.\n  - It is a stable sort (meaning equal elements remain in their original order).\n  - In-place sorting with minimal memory usage.\n- **Disadvantages**:\n  - Like bubble sort, it’s inefficient for larger datasets.\n  - The time complexity doesn’t improve much for unsorted data.\n\n#### **3. Selection Sort**\n- **Time Complexity**: O(n²) for all cases (worst, average, and best).\n- **Space Complexity**: O(1).\n- **Advantages**:\n  - Simple to understand and implement.\n  - Doesn’t need extra space for sorting.\n  - Fewer swaps compared to bubble sort.\n- **Disadvantages**:\n  - It is also inefficient for large datasets.\n  - Does the same amount of work regardless of the initial order of the list.\n  - Not a stable sort, meaning the relative order of equal elements can change.\n\n### **Conclusion**\n- **Bubble Sort**, **Insertion Sort**, and **Selection Sort** are simple algorithms suitable for small datasets or when learning sorting concepts.\n- While **Insertion Sort** is slightly better than the others for nearly sorted data, all three have **O(n²)** time complexity, making them inefficient for larger datasets.\n\n",
      "metadata": {}
    },
    {
      "id": "3b04217a-8255-4c19-a960-0d0335f25f25",
      "cell_type": "code",
      "source": "",
      "metadata": {
        "trusted": true
      },
      "outputs": [],
      "execution_count": null
    }
  ]
}